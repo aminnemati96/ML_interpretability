{
  "nbformat": 4,
  "nbformat_minor": 0,
  "metadata": {
    "kernelspec": {
      "display_name": "Python 3",
      "language": "python",
      "name": "python3"
    },
    "language_info": {
      "codemirror_mode": {
        "name": "ipython",
        "version": 3
      },
      "file_extension": ".py",
      "mimetype": "text/x-python",
      "name": "python",
      "nbconvert_exporter": "python",
      "pygments_lexer": "ipython3",
      "version": "3.7.6"
    },
    "colab": {
      "name": "Testing_skater.ipynb",
      "provenance": [],
      "include_colab_link": true
    }
  },
  "cells": [
    {
      "cell_type": "markdown",
      "metadata": {
        "id": "view-in-github",
        "colab_type": "text"
      },
      "source": [
        "<a href=\"https://colab.research.google.com/github/aminnemati96/ML_interpretability/blob/main/Testing_skater.ipynb\" target=\"_parent\"><img src=\"https://colab.research.google.com/assets/colab-badge.svg\" alt=\"Open In Colab\"/></a>"
      ]
    },
    {
      "cell_type": "code",
      "metadata": {
        "id": "jRpH1Ub2ifLs"
      },
      "source": [
        "from sklearn.metrics import confusion_matrix, f1_score, precision_score, recall_score\n",
        "from sklearn.model_selection import train_test_split\n",
        "from skater.core.explanations import Interpretation\n",
        "from sklearn.preprocessing import LabelEncoder\n",
        "from pandas_profiling import ProfileReport\n",
        "from skater.model import InMemoryModel\n",
        "import matplotlib.pyplot as plt\n",
        "import tensorflow as tf\n",
        "import pandas as pd\n",
        "import numpy as np"
      ],
      "execution_count": null,
      "outputs": []
    },
    {
      "cell_type": "code",
      "metadata": {
        "id": "31QGqMiTTtkg"
      },
      "source": [
        "import os\n",
        "os.chdir('Thesis2/01-12')"
      ],
      "execution_count": null,
      "outputs": []
    },
    {
      "cell_type": "code",
      "metadata": {
        "id": "8tz0vYCMfSDG"
      },
      "source": [
        "df = pd.read_csv(\"df_final_featured_uncorelated.csv\")"
      ],
      "execution_count": null,
      "outputs": []
    },
    {
      "cell_type": "code",
      "metadata": {
        "id": "LrXL9Ua_dnVb"
      },
      "source": [
        "features = [' Source Port', ' Destination Port', ' Protocol', ' Flow Duration',\n",
        "       ' Total Fwd Packets', 'Total Length of Fwd Packets',\n",
        "       ' Fwd Packet Length Max', ' Fwd Packet Length Min',\n",
        "       ' Fwd Packet Length Std', 'Bwd Packet Length Max',\n",
        "       ' Bwd Packet Length Min', ' Bwd Packet Length Mean', ' Flow IAT Mean',\n",
        "       ' Flow IAT Std', ' Flow IAT Min', ' Bwd IAT Mean', ' Bwd IAT Min',\n",
        "       'Fwd PSH Flags', ' Fwd Header Length', ' Bwd Header Length',\n",
        "       'Fwd Packets/s', ' Bwd Packets/s', ' Packet Length Mean',\n",
        "       ' Packet Length Variance', ' SYN Flag Count', ' ACK Flag Count',\n",
        "       ' URG Flag Count', ' CWE Flag Count', ' Down/Up Ratio',\n",
        "       'Init_Win_bytes_forward', ' Init_Win_bytes_backward',\n",
        "       ' min_seg_size_forward', 'Active Mean', ' Active Std', ' Active Max',\n",
        "       ' Idle Std', ' Label']\n",
        "df = df[features]"
      ],
      "execution_count": null,
      "outputs": []
    },
    {
      "cell_type": "code",
      "metadata": {
        "id": "7ygSkLabkVO2"
      },
      "source": [
        "X = df.iloc[:, :-1].values\n",
        "y = df.iloc[:, -1].values\n",
        "le = LabelEncoder()\n",
        "y = le.fit_transform(y)"
      ],
      "execution_count": null,
      "outputs": []
    },
    {
      "cell_type": "code",
      "metadata": {
        "id": "4hfILvJ3n1nd"
      },
      "source": [
        "X_train, X_test, y_train, y_test = train_test_split(X, y, test_size = 0.2, random_state = 0, stratify=y)"
      ],
      "execution_count": null,
      "outputs": []
    },
    {
      "cell_type": "code",
      "metadata": {
        "id": "z_Id57z1oWIY",
        "colab": {
          "base_uri": "https://localhost:8080/"
        },
        "outputId": "519f32a6-c4ab-4824-a867-5535460a3c15"
      },
      "source": [
        "ann = tf.keras.models.Sequential()\n",
        "ann.add(tf.keras.Input(shape=(31,)))\n",
        "ann.add(tf.keras.layers.Dense(units=10, activation='relu'))\n",
        "ann.add(tf.keras.layers.Dense(units=10, activation='relu'))\n",
        "ann.add(tf.keras.layers.Dense(units=1, activation='sigmoid'))\n",
        "ann.compile(optimizer = 'adam', loss = 'binary_crossentropy', metrics = ['accuracy'])\n",
        "ann.fit(X_train, y_train, batch_size = 32, epochs = 10)"
      ],
      "execution_count": null,
      "outputs": [
        {
          "output_type": "stream",
          "text": [
            "Train on 147472 samples\n",
            "Epoch 1/10\n",
            "147472/147472 [==============================] - 11s 75us/sample - loss: 9518.3298 - accuracy: 0.9421\n",
            "Epoch 2/10\n",
            "147472/147472 [==============================] - 10s 65us/sample - loss: 2605.0116 - accuracy: 0.9745\n",
            "Epoch 3/10\n",
            "147472/147472 [==============================] - 9s 59us/sample - loss: 481.6535 - accuracy: 0.9814\n",
            "Epoch 4/10\n",
            "147472/147472 [==============================] - 9s 59us/sample - loss: 5896.8954 - accuracy: 0.9771\n",
            "Epoch 5/10\n",
            "147472/147472 [==============================] - 8s 58us/sample - loss: 165.5991 - accuracy: 0.9542\n",
            "Epoch 6/10\n",
            "147472/147472 [==============================] - 8s 57us/sample - loss: 28.1105 - accuracy: 0.9589\n",
            "Epoch 7/10\n",
            "147472/147472 [==============================] - 9s 58us/sample - loss: 774.0596 - accuracy: 0.9680\n",
            "Epoch 8/10\n",
            "147472/147472 [==============================] - 9s 59us/sample - loss: 122.9207 - accuracy: 0.9800\n",
            "Epoch 9/10\n",
            "147472/147472 [==============================] - 9s 61us/sample - loss: 228.6728 - accuracy: 0.9884\n",
            "Epoch 10/10\n",
            "147472/147472 [==============================] - 9s 59us/sample - loss: 684.6705 - accuracy: 0.9898\n"
          ],
          "name": "stdout"
        },
        {
          "output_type": "execute_result",
          "data": {
            "text/plain": [
              "<tensorflow.python.keras.callbacks.History at 0x233472be7c8>"
            ]
          },
          "metadata": {
            "tags": []
          },
          "execution_count": 6
        }
      ]
    },
    {
      "cell_type": "code",
      "metadata": {
        "id": "gQxgTQows7ha"
      },
      "source": [
        "ann.save(\"ann.h5\")"
      ],
      "execution_count": null,
      "outputs": []
    },
    {
      "cell_type": "code",
      "metadata": {
        "id": "Ri2gLT7C87l-",
        "colab": {
          "base_uri": "https://localhost:8080/"
        },
        "outputId": "812ea716-deee-4fb3-ba9d-6351b57ac374"
      },
      "source": [
        "y_pred = ann.predict(X_test)\n",
        "y_pred = (y_pred > 0.5)\n",
        "cm = confusion_matrix(y_test, y_pred)\n",
        "print(cm)"
      ],
      "execution_count": null,
      "outputs": [
        {
          "output_type": "stream",
          "text": [
            "[[11187  5681]\n",
            " [   43 19957]]\n"
          ],
          "name": "stdout"
        }
      ]
    },
    {
      "cell_type": "code",
      "metadata": {
        "id": "bDGhgcs2nVun",
        "colab": {
          "base_uri": "https://localhost:8080/"
        },
        "outputId": "bc77a7ab-46b8-4f5f-a3bd-4db19cb51bfd"
      },
      "source": [
        "precision = precision_score(y_true=y_test, y_pred=y_pred)\n",
        "recall = recall_score(y_true=y_test, y_pred=y_pred)\n",
        "f1 = f1_score(y_true=y_test, y_pred=y_pred)\n",
        "print(precision, recall, f1)"
      ],
      "execution_count": null,
      "outputs": [
        {
          "output_type": "stream",
          "text": [
            "0.7784148529526485 0.99785 0.8745782023752137\n"
          ],
          "name": "stdout"
        }
      ]
    },
    {
      "cell_type": "code",
      "metadata": {
        "id": "fyR9uU5Hqd7_"
      },
      "source": [
        "interpreter = Interpretation(training_data=X_test, \n",
        "                             feature_names=list(df.columns).remove(' Label'))\n",
        "im_model = InMemoryModel(ann.predict_proba, examples=X_train)"
      ],
      "execution_count": null,
      "outputs": []
    },
    {
      "cell_type": "code",
      "metadata": {
        "id": "4sr9jZ7I5MSO",
        "colab": {
          "base_uri": "https://localhost:8080/",
          "height": 366
        },
        "outputId": "1b61f80d-8077-4ced-944b-85952e5a0533"
      },
      "source": [
        "plots = interpreter.feature_importance.plot_feature_importance(im_model, ascending=True)"
      ],
      "execution_count": null,
      "outputs": [
        {
          "output_type": "stream",
          "text": [
            "[31/31] features ████████████████████ Time elapsed: 25 seconds"
          ],
          "name": "stdout"
        },
        {
          "output_type": "display_data",
          "data": {
            "text/plain": [
              "<Figure size 576x396 with 1 Axes>"
            ],
            "image/png": "[encoded data removed]"
          },
          "metadata": {
            "tags": []
          }
        }
      ]
    },
    {
      "cell_type": "code",
      "metadata": {
        "id": "aYli-3-SgDzh",
        "colab": {
          "base_uri": "https://localhost:8080/",
          "height": 34
        },
        "outputId": "a119ab84-8c01-4e99-d5b8-4f7dd381ab68"
      },
      "source": [
        "df.columns[21]"
      ],
      "execution_count": null,
      "outputs": [
        {
          "output_type": "execute_result",
          "data": {
            "text/plain": [
              "' ACK Flag Count'"
            ]
          },
          "metadata": {
            "tags": []
          },
          "execution_count": 21
        }
      ]
    },
    {
      "cell_type": "code",
      "metadata": {
        "id": "V0_NAA2hgKhE"
      },
      "source": [
        "test = df.groupby([\"_Flow_Duration\", \"_Destination_Port\", \"_Label\"]).size().reset_index(name=\"Time\")"
      ],
      "execution_count": null,
      "outputs": []
    },
    {
      "cell_type": "code",
      "metadata": {
        "id": "0H7vvuKEjtf-",
        "colab": {
          "base_uri": "https://localhost:8080/",
          "height": 419
        },
        "outputId": "9275eadf-98f6-443e-c298-09c6832fd3fd"
      },
      "source": [
        "test"
      ],
      "execution_count": null,
      "outputs": [
        {
          "output_type": "execute_result",
          "data": {
            "text/plain": [
              "        _Flow_Duration  _Destination_Port     _Label  Time\n",
              "0                    0                  0     BENIGN     1\n",
              "1                    0                 53     BENIGN     2\n",
              "2                    0                 80     BENIGN    20\n",
              "3                    0                384  DrDoS_UDP     1\n",
              "4                    0                443     BENIGN   708\n",
              "...                ...                ...        ...   ...\n",
              "160912       119992888                443     BENIGN     1\n",
              "160913       119995269                443     BENIGN     1\n",
              "160914       119995583                  0     BENIGN     1\n",
              "160915       119995906                  0     BENIGN     1\n",
              "160916       119997515                  0     BENIGN     1\n",
              "\n",
              "[160917 rows x 4 columns]"
            ],
            "text/html": [
              "<div>\n",
              "<style scoped>\n",
              "    .dataframe tbody tr th:only-of-type {\n",
              "        vertical-align: middle;\n",
              "    }\n",
              "\n",
              "    .dataframe tbody tr th {\n",
              "        vertical-align: top;\n",
              "    }\n",
              "\n",
              "    .dataframe thead th {\n",
              "        text-align: right;\n",
              "    }\n",
              "</style>\n",
              "<table border=\"1\" class=\"dataframe\">\n",
              "  <thead>\n",
              "    <tr style=\"text-align: right;\">\n",
              "      <th></th>\n",
              "      <th>_Flow_Duration</th>\n",
              "      <th>_Destination_Port</th>\n",
              "      <th>_Label</th>\n",
              "      <th>Time</th>\n",
              "    </tr>\n",
              "  </thead>\n",
              "  <tbody>\n",
              "    <tr>\n",
              "      <th>0</th>\n",
              "      <td>0</td>\n",
              "      <td>0</td>\n",
              "      <td>BENIGN</td>\n",
              "      <td>1</td>\n",
              "    </tr>\n",
              "    <tr>\n",
              "      <th>1</th>\n",
              "      <td>0</td>\n",
              "      <td>53</td>\n",
              "      <td>BENIGN</td>\n",
              "      <td>2</td>\n",
              "    </tr>\n",
              "    <tr>\n",
              "      <th>2</th>\n",
              "      <td>0</td>\n",
              "      <td>80</td>\n",
              "      <td>BENIGN</td>\n",
              "      <td>20</td>\n",
              "    </tr>\n",
              "    <tr>\n",
              "      <th>3</th>\n",
              "      <td>0</td>\n",
              "      <td>384</td>\n",
              "      <td>DrDoS_UDP</td>\n",
              "      <td>1</td>\n",
              "    </tr>\n",
              "    <tr>\n",
              "      <th>4</th>\n",
              "      <td>0</td>\n",
              "      <td>443</td>\n",
              "      <td>BENIGN</td>\n",
              "      <td>708</td>\n",
              "    </tr>\n",
              "    <tr>\n",
              "      <th>...</th>\n",
              "      <td>...</td>\n",
              "      <td>...</td>\n",
              "      <td>...</td>\n",
              "      <td>...</td>\n",
              "    </tr>\n",
              "    <tr>\n",
              "      <th>160912</th>\n",
              "      <td>119992888</td>\n",
              "      <td>443</td>\n",
              "      <td>BENIGN</td>\n",
              "      <td>1</td>\n",
              "    </tr>\n",
              "    <tr>\n",
              "      <th>160913</th>\n",
              "      <td>119995269</td>\n",
              "      <td>443</td>\n",
              "      <td>BENIGN</td>\n",
              "      <td>1</td>\n",
              "    </tr>\n",
              "    <tr>\n",
              "      <th>160914</th>\n",
              "      <td>119995583</td>\n",
              "      <td>0</td>\n",
              "      <td>BENIGN</td>\n",
              "      <td>1</td>\n",
              "    </tr>\n",
              "    <tr>\n",
              "      <th>160915</th>\n",
              "      <td>119995906</td>\n",
              "      <td>0</td>\n",
              "      <td>BENIGN</td>\n",
              "      <td>1</td>\n",
              "    </tr>\n",
              "    <tr>\n",
              "      <th>160916</th>\n",
              "      <td>119997515</td>\n",
              "      <td>0</td>\n",
              "      <td>BENIGN</td>\n",
              "      <td>1</td>\n",
              "    </tr>\n",
              "  </tbody>\n",
              "</table>\n",
              "<p>160917 rows × 4 columns</p>\n",
              "</div>"
            ]
          },
          "metadata": {
            "tags": []
          },
          "execution_count": 5
        }
      ]
    },
    {
      "cell_type": "code",
      "metadata": {
        "id": "j6k8DHeDzHe5",
        "colab": {
          "base_uri": "https://localhost:8080/",
          "height": 68
        },
        "outputId": "154df2b8-b672-4da3-d275-17d0c6e93ff6"
      },
      "source": [
        "df[(df[\"_Destination_Port\"] > 17967) & (df['_Flow_Duration'] < 2)]._Label.value_counts()"
      ],
      "execution_count": null,
      "outputs": [
        {
          "output_type": "execute_result",
          "data": {
            "text/plain": [
              "DrDoS_UDP    35425\n",
              "BENIGN        1147\n",
              "Name: _Label, dtype: int64"
            ]
          },
          "metadata": {
            "tags": []
          },
          "execution_count": 6
        }
      ]
    },
    {
      "cell_type": "code",
      "metadata": {
        "id": "UiBswTRnk_GL",
        "colab": {
          "base_uri": "https://localhost:8080/",
          "height": 51
        },
        "outputId": "7776d3ed-0028-4946-fa02-6293bfcc3d41"
      },
      "source": [
        "df[(df[\"_Destination_Port\"] == 53) & (df['_Flow_Duration'] < 10)]._Label.value_counts()"
      ],
      "execution_count": null,
      "outputs": [
        {
          "output_type": "execute_result",
          "data": {
            "text/plain": [
              "BENIGN    143\n",
              "Name: _Label, dtype: int64"
            ]
          },
          "metadata": {
            "tags": []
          },
          "execution_count": 51
        }
      ]
    },
    {
      "cell_type": "code",
      "metadata": {
        "id": "J19lj39di3fv",
        "colab": {
          "base_uri": "https://localhost:8080/",
          "height": 49
        },
        "outputId": "5e3cfd9c-1130-4066-d64e-31eaf1731d5d"
      },
      "source": [
        "test[(test[\"_Label\"] == \"DrDoS_UDP\") & (test['_Destination_Port'] == 21)]"
      ],
      "execution_count": null,
      "outputs": [
        {
          "output_type": "execute_result",
          "data": {
            "text/plain": [
              "Empty DataFrame\n",
              "Columns: [_Flow_Duration, _Destination_Port, _Label, Time]\n",
              "Index: []"
            ],
            "text/html": [
              "<div>\n",
              "<style scoped>\n",
              "    .dataframe tbody tr th:only-of-type {\n",
              "        vertical-align: middle;\n",
              "    }\n",
              "\n",
              "    .dataframe tbody tr th {\n",
              "        vertical-align: top;\n",
              "    }\n",
              "\n",
              "    .dataframe thead th {\n",
              "        text-align: right;\n",
              "    }\n",
              "</style>\n",
              "<table border=\"1\" class=\"dataframe\">\n",
              "  <thead>\n",
              "    <tr style=\"text-align: right;\">\n",
              "      <th></th>\n",
              "      <th>_Flow_Duration</th>\n",
              "      <th>_Destination_Port</th>\n",
              "      <th>_Label</th>\n",
              "      <th>Time</th>\n",
              "    </tr>\n",
              "  </thead>\n",
              "  <tbody>\n",
              "  </tbody>\n",
              "</table>\n",
              "</div>"
            ]
          },
          "metadata": {
            "tags": []
          },
          "execution_count": 17
        }
      ]
    },
    {
      "cell_type": "code",
      "metadata": {
        "id": "eSCD6SaUlUYO",
        "colab": {
          "base_uri": "https://localhost:8080/",
          "height": 419
        },
        "outputId": "c665560c-511a-41aa-8ba6-ba7e02678e39"
      },
      "source": [
        "test[test[\"_Label\"] == \"DrDoS_UDP\"].sort_values(by=['Time'], ascending=False)"
      ],
      "execution_count": null,
      "outputs": [
        {
          "output_type": "execute_result",
          "data": {
            "text/plain": [
              "        _Flow_Duration  _Destination_Port     _Label  Time\n",
              "42651                3                137  DrDoS_UDP    13\n",
              "34638                2                137  DrDoS_UDP     8\n",
              "10146                1              17967  DrDoS_UDP     8\n",
              "14863                1              27492  DrDoS_UDP     7\n",
              "29036                1              55574  DrDoS_UDP     7\n",
              "...                ...                ...        ...   ...\n",
              "49440               48              23679  DrDoS_UDP     1\n",
              "49439               48              23670  DrDoS_UDP     1\n",
              "49438               48              23655  DrDoS_UDP     1\n",
              "49437               48              23612  DrDoS_UDP     1\n",
              "154061        59794145              44216  DrDoS_UDP     1\n",
              "\n",
              "[110360 rows x 4 columns]"
            ],
            "text/html": [
              "<div>\n",
              "<style scoped>\n",
              "    .dataframe tbody tr th:only-of-type {\n",
              "        vertical-align: middle;\n",
              "    }\n",
              "\n",
              "    .dataframe tbody tr th {\n",
              "        vertical-align: top;\n",
              "    }\n",
              "\n",
              "    .dataframe thead th {\n",
              "        text-align: right;\n",
              "    }\n",
              "</style>\n",
              "<table border=\"1\" class=\"dataframe\">\n",
              "  <thead>\n",
              "    <tr style=\"text-align: right;\">\n",
              "      <th></th>\n",
              "      <th>_Flow_Duration</th>\n",
              "      <th>_Destination_Port</th>\n",
              "      <th>_Label</th>\n",
              "      <th>Time</th>\n",
              "    </tr>\n",
              "  </thead>\n",
              "  <tbody>\n",
              "    <tr>\n",
              "      <th>42651</th>\n",
              "      <td>3</td>\n",
              "      <td>137</td>\n",
              "      <td>DrDoS_UDP</td>\n",
              "      <td>13</td>\n",
              "    </tr>\n",
              "    <tr>\n",
              "      <th>34638</th>\n",
              "      <td>2</td>\n",
              "      <td>137</td>\n",
              "      <td>DrDoS_UDP</td>\n",
              "      <td>8</td>\n",
              "    </tr>\n",
              "    <tr>\n",
              "      <th>10146</th>\n",
              "      <td>1</td>\n",
              "      <td>17967</td>\n",
              "      <td>DrDoS_UDP</td>\n",
              "      <td>8</td>\n",
              "    </tr>\n",
              "    <tr>\n",
              "      <th>14863</th>\n",
              "      <td>1</td>\n",
              "      <td>27492</td>\n",
              "      <td>DrDoS_UDP</td>\n",
              "      <td>7</td>\n",
              "    </tr>\n",
              "    <tr>\n",
              "      <th>29036</th>\n",
              "      <td>1</td>\n",
              "      <td>55574</td>\n",
              "      <td>DrDoS_UDP</td>\n",
              "      <td>7</td>\n",
              "    </tr>\n",
              "    <tr>\n",
              "      <th>...</th>\n",
              "      <td>...</td>\n",
              "      <td>...</td>\n",
              "      <td>...</td>\n",
              "      <td>...</td>\n",
              "    </tr>\n",
              "    <tr>\n",
              "      <th>49440</th>\n",
              "      <td>48</td>\n",
              "      <td>23679</td>\n",
              "      <td>DrDoS_UDP</td>\n",
              "      <td>1</td>\n",
              "    </tr>\n",
              "    <tr>\n",
              "      <th>49439</th>\n",
              "      <td>48</td>\n",
              "      <td>23670</td>\n",
              "      <td>DrDoS_UDP</td>\n",
              "      <td>1</td>\n",
              "    </tr>\n",
              "    <tr>\n",
              "      <th>49438</th>\n",
              "      <td>48</td>\n",
              "      <td>23655</td>\n",
              "      <td>DrDoS_UDP</td>\n",
              "      <td>1</td>\n",
              "    </tr>\n",
              "    <tr>\n",
              "      <th>49437</th>\n",
              "      <td>48</td>\n",
              "      <td>23612</td>\n",
              "      <td>DrDoS_UDP</td>\n",
              "      <td>1</td>\n",
              "    </tr>\n",
              "    <tr>\n",
              "      <th>154061</th>\n",
              "      <td>59794145</td>\n",
              "      <td>44216</td>\n",
              "      <td>DrDoS_UDP</td>\n",
              "      <td>1</td>\n",
              "    </tr>\n",
              "  </tbody>\n",
              "</table>\n",
              "<p>110360 rows × 4 columns</p>\n",
              "</div>"
            ]
          },
          "metadata": {
            "tags": []
          },
          "execution_count": 19
        }
      ]
    },
    {
      "cell_type": "code",
      "metadata": {
        "id": "Ti8g-TFalVKb",
        "colab": {
          "base_uri": "https://localhost:8080/",
          "height": 439
        },
        "outputId": "c6cf06c3-b557-4ab1-800d-5afaa864d34d"
      },
      "source": [
        "df[(df[\"_Destination_Port\"] > 17967) & (df['_Flow_Duration'] < 2) & (df['_Label'] == \"BENIGN\")]"
      ],
      "execution_count": null,
      "outputs": [
        {
          "output_type": "execute_result",
          "data": {
            "text/plain": [
              "        _Source_Port  _Destination_Port  _Protocol  _Flow_Duration  \\\n",
              "467              443              59612          6               1   \n",
              "801              443              59652          6               1   \n",
              "1018             443              59637          6               1   \n",
              "1019             443              59635          6               1   \n",
              "1078             443              54925          6               1   \n",
              "...              ...                ...        ...             ...   \n",
              "203994            80              57627          6               1   \n",
              "204145            80              57622          6               1   \n",
              "204202            80              52003          6               1   \n",
              "204375            80              51997          6               1   \n",
              "204415            80              57621          6               1   \n",
              "\n",
              "        _Total_Fwd_Packets  Total_Length_of_Fwd_Packets  \\\n",
              "467                      2                         12.0   \n",
              "801                      2                        431.0   \n",
              "1018                     2                         12.0   \n",
              "1019                     2                         12.0   \n",
              "1078                     2                         12.0   \n",
              "...                    ...                          ...   \n",
              "203994                   2                          0.0   \n",
              "204145                   2                          0.0   \n",
              "204202                   2                          0.0   \n",
              "204375                   2                          0.0   \n",
              "204415                   2                          0.0   \n",
              "\n",
              "        _Fwd_Packet_Length_Max  _Fwd_Packet_Length_Min  \\\n",
              "467                        6.0                     6.0   \n",
              "801                      400.0                    31.0   \n",
              "1018                       6.0                     6.0   \n",
              "1019                       6.0                     6.0   \n",
              "1078                       6.0                     6.0   \n",
              "...                        ...                     ...   \n",
              "203994                     0.0                     0.0   \n",
              "204145                     0.0                     0.0   \n",
              "204202                     0.0                     0.0   \n",
              "204375                     0.0                     0.0   \n",
              "204415                     0.0                     0.0   \n",
              "\n",
              "        _Fwd_Packet_Length_Std  Bwd_Packet_Length_Max  ...  _CWE_Flag_Count  \\\n",
              "467                   0.000000                    0.0  ...                1   \n",
              "801                 260.922402                    0.0  ...                0   \n",
              "1018                  0.000000                    0.0  ...                1   \n",
              "1019                  0.000000                    0.0  ...                1   \n",
              "1078                  0.000000                    0.0  ...                1   \n",
              "...                        ...                    ...  ...              ...   \n",
              "203994                0.000000                    0.0  ...                1   \n",
              "204145                0.000000                    0.0  ...                1   \n",
              "204202                0.000000                    0.0  ...                0   \n",
              "204375                0.000000                    0.0  ...                1   \n",
              "204415                0.000000                    0.0  ...                0   \n",
              "\n",
              "        _Down/Up_Ratio  Init_Win_bytes_forward  _Init_Win_bytes_backward  \\\n",
              "467                0.0                     246                        -1   \n",
              "801                0.0                   33580                        -1   \n",
              "1018               0.0                     263                        -1   \n",
              "1019               0.0                     349                        -1   \n",
              "1078               0.0                     252                        -1   \n",
              "...                ...                     ...                       ...   \n",
              "203994             0.0                     238                        -1   \n",
              "204145             0.0                     245                        -1   \n",
              "204202             0.0                   29200                        -1   \n",
              "204375             0.0                     238                        -1   \n",
              "204415             0.0                       0                        -1   \n",
              "\n",
              "        _min_seg_size_forward  Active_Mean  _Active_Std  _Active_Max  \\\n",
              "467                        20          0.0          0.0          0.0   \n",
              "801                        20          0.0          0.0          0.0   \n",
              "1018                       20          0.0          0.0          0.0   \n",
              "1019                       20          0.0          0.0          0.0   \n",
              "1078                       20          0.0          0.0          0.0   \n",
              "...                       ...          ...          ...          ...   \n",
              "203994                     20          0.0          0.0          0.0   \n",
              "204145                     20          0.0          0.0          0.0   \n",
              "204202                     32          0.0          0.0          0.0   \n",
              "204375                     20          0.0          0.0          0.0   \n",
              "204415                     20          0.0          0.0          0.0   \n",
              "\n",
              "        _Idle_Std  _Label  \n",
              "467           0.0  BENIGN  \n",
              "801           0.0  BENIGN  \n",
              "1018          0.0  BENIGN  \n",
              "1019          0.0  BENIGN  \n",
              "1078          0.0  BENIGN  \n",
              "...           ...     ...  \n",
              "203994        0.0  BENIGN  \n",
              "204145        0.0  BENIGN  \n",
              "204202        0.0  BENIGN  \n",
              "204375        0.0  BENIGN  \n",
              "204415        0.0  BENIGN  \n",
              "\n",
              "[1147 rows x 37 columns]"
            ],
            "text/html": [
              "<div>\n",
              "<style scoped>\n",
              "    .dataframe tbody tr th:only-of-type {\n",
              "        vertical-align: middle;\n",
              "    }\n",
              "\n",
              "    .dataframe tbody tr th {\n",
              "        vertical-align: top;\n",
              "    }\n",
              "\n",
              "    .dataframe thead th {\n",
              "        text-align: right;\n",
              "    }\n",
              "</style>\n",
              "<table border=\"1\" class=\"dataframe\">\n",
              "  <thead>\n",
              "    <tr style=\"text-align: right;\">\n",
              "      <th></th>\n",
              "      <th>_Source_Port</th>\n",
              "      <th>_Destination_Port</th>\n",
              "      <th>_Protocol</th>\n",
              "      <th>_Flow_Duration</th>\n",
              "      <th>_Total_Fwd_Packets</th>\n",
              "      <th>Total_Length_of_Fwd_Packets</th>\n",
              "      <th>_Fwd_Packet_Length_Max</th>\n",
              "      <th>_Fwd_Packet_Length_Min</th>\n",
              "      <th>_Fwd_Packet_Length_Std</th>\n",
              "      <th>Bwd_Packet_Length_Max</th>\n",
              "      <th>...</th>\n",
              "      <th>_CWE_Flag_Count</th>\n",
              "      <th>_Down/Up_Ratio</th>\n",
              "      <th>Init_Win_bytes_forward</th>\n",
              "      <th>_Init_Win_bytes_backward</th>\n",
              "      <th>_min_seg_size_forward</th>\n",
              "      <th>Active_Mean</th>\n",
              "      <th>_Active_Std</th>\n",
              "      <th>_Active_Max</th>\n",
              "      <th>_Idle_Std</th>\n",
              "      <th>_Label</th>\n",
              "    </tr>\n",
              "  </thead>\n",
              "  <tbody>\n",
              "    <tr>\n",
              "      <th>467</th>\n",
              "      <td>443</td>\n",
              "      <td>59612</td>\n",
              "      <td>6</td>\n",
              "      <td>1</td>\n",
              "      <td>2</td>\n",
              "      <td>12.0</td>\n",
              "      <td>6.0</td>\n",
              "      <td>6.0</td>\n",
              "      <td>0.000000</td>\n",
              "      <td>0.0</td>\n",
              "      <td>...</td>\n",
              "      <td>1</td>\n",
              "      <td>0.0</td>\n",
              "      <td>246</td>\n",
              "      <td>-1</td>\n",
              "      <td>20</td>\n",
              "      <td>0.0</td>\n",
              "      <td>0.0</td>\n",
              "      <td>0.0</td>\n",
              "      <td>0.0</td>\n",
              "      <td>BENIGN</td>\n",
              "    </tr>\n",
              "    <tr>\n",
              "      <th>801</th>\n",
              "      <td>443</td>\n",
              "      <td>59652</td>\n",
              "      <td>6</td>\n",
              "      <td>1</td>\n",
              "      <td>2</td>\n",
              "      <td>431.0</td>\n",
              "      <td>400.0</td>\n",
              "      <td>31.0</td>\n",
              "      <td>260.922402</td>\n",
              "      <td>0.0</td>\n",
              "      <td>...</td>\n",
              "      <td>0</td>\n",
              "      <td>0.0</td>\n",
              "      <td>33580</td>\n",
              "      <td>-1</td>\n",
              "      <td>20</td>\n",
              "      <td>0.0</td>\n",
              "      <td>0.0</td>\n",
              "      <td>0.0</td>\n",
              "      <td>0.0</td>\n",
              "      <td>BENIGN</td>\n",
              "    </tr>\n",
              "    <tr>\n",
              "      <th>1018</th>\n",
              "      <td>443</td>\n",
              "      <td>59637</td>\n",
              "      <td>6</td>\n",
              "      <td>1</td>\n",
              "      <td>2</td>\n",
              "      <td>12.0</td>\n",
              "      <td>6.0</td>\n",
              "      <td>6.0</td>\n",
              "      <td>0.000000</td>\n",
              "      <td>0.0</td>\n",
              "      <td>...</td>\n",
              "      <td>1</td>\n",
              "      <td>0.0</td>\n",
              "      <td>263</td>\n",
              "      <td>-1</td>\n",
              "      <td>20</td>\n",
              "      <td>0.0</td>\n",
              "      <td>0.0</td>\n",
              "      <td>0.0</td>\n",
              "      <td>0.0</td>\n",
              "      <td>BENIGN</td>\n",
              "    </tr>\n",
              "    <tr>\n",
              "      <th>1019</th>\n",
              "      <td>443</td>\n",
              "      <td>59635</td>\n",
              "      <td>6</td>\n",
              "      <td>1</td>\n",
              "      <td>2</td>\n",
              "      <td>12.0</td>\n",
              "      <td>6.0</td>\n",
              "      <td>6.0</td>\n",
              "      <td>0.000000</td>\n",
              "      <td>0.0</td>\n",
              "      <td>...</td>\n",
              "      <td>1</td>\n",
              "      <td>0.0</td>\n",
              "      <td>349</td>\n",
              "      <td>-1</td>\n",
              "      <td>20</td>\n",
              "      <td>0.0</td>\n",
              "      <td>0.0</td>\n",
              "      <td>0.0</td>\n",
              "      <td>0.0</td>\n",
              "      <td>BENIGN</td>\n",
              "    </tr>\n",
              "    <tr>\n",
              "      <th>1078</th>\n",
              "      <td>443</td>\n",
              "      <td>54925</td>\n",
              "      <td>6</td>\n",
              "      <td>1</td>\n",
              "      <td>2</td>\n",
              "      <td>12.0</td>\n",
              "      <td>6.0</td>\n",
              "      <td>6.0</td>\n",
              "      <td>0.000000</td>\n",
              "      <td>0.0</td>\n",
              "      <td>...</td>\n",
              "      <td>1</td>\n",
              "      <td>0.0</td>\n",
              "      <td>252</td>\n",
              "      <td>-1</td>\n",
              "      <td>20</td>\n",
              "      <td>0.0</td>\n",
              "      <td>0.0</td>\n",
              "      <td>0.0</td>\n",
              "      <td>0.0</td>\n",
              "      <td>BENIGN</td>\n",
              "    </tr>\n",
              "    <tr>\n",
              "      <th>...</th>\n",
              "      <td>...</td>\n",
              "      <td>...</td>\n",
              "      <td>...</td>\n",
              "      <td>...</td>\n",
              "      <td>...</td>\n",
              "      <td>...</td>\n",
              "      <td>...</td>\n",
              "      <td>...</td>\n",
              "      <td>...</td>\n",
              "      <td>...</td>\n",
              "      <td>...</td>\n",
              "      <td>...</td>\n",
              "      <td>...</td>\n",
              "      <td>...</td>\n",
              "      <td>...</td>\n",
              "      <td>...</td>\n",
              "      <td>...</td>\n",
              "      <td>...</td>\n",
              "      <td>...</td>\n",
              "      <td>...</td>\n",
              "      <td>...</td>\n",
              "    </tr>\n",
              "    <tr>\n",
              "      <th>203994</th>\n",
              "      <td>80</td>\n",
              "      <td>57627</td>\n",
              "      <td>6</td>\n",
              "      <td>1</td>\n",
              "      <td>2</td>\n",
              "      <td>0.0</td>\n",
              "      <td>0.0</td>\n",
              "      <td>0.0</td>\n",
              "      <td>0.000000</td>\n",
              "      <td>0.0</td>\n",
              "      <td>...</td>\n",
              "      <td>1</td>\n",
              "      <td>0.0</td>\n",
              "      <td>238</td>\n",
              "      <td>-1</td>\n",
              "      <td>20</td>\n",
              "      <td>0.0</td>\n",
              "      <td>0.0</td>\n",
              "      <td>0.0</td>\n",
              "      <td>0.0</td>\n",
              "      <td>BENIGN</td>\n",
              "    </tr>\n",
              "    <tr>\n",
              "      <th>204145</th>\n",
              "      <td>80</td>\n",
              "      <td>57622</td>\n",
              "      <td>6</td>\n",
              "      <td>1</td>\n",
              "      <td>2</td>\n",
              "      <td>0.0</td>\n",
              "      <td>0.0</td>\n",
              "      <td>0.0</td>\n",
              "      <td>0.000000</td>\n",
              "      <td>0.0</td>\n",
              "      <td>...</td>\n",
              "      <td>1</td>\n",
              "      <td>0.0</td>\n",
              "      <td>245</td>\n",
              "      <td>-1</td>\n",
              "      <td>20</td>\n",
              "      <td>0.0</td>\n",
              "      <td>0.0</td>\n",
              "      <td>0.0</td>\n",
              "      <td>0.0</td>\n",
              "      <td>BENIGN</td>\n",
              "    </tr>\n",
              "    <tr>\n",
              "      <th>204202</th>\n",
              "      <td>80</td>\n",
              "      <td>52003</td>\n",
              "      <td>6</td>\n",
              "      <td>1</td>\n",
              "      <td>2</td>\n",
              "      <td>0.0</td>\n",
              "      <td>0.0</td>\n",
              "      <td>0.0</td>\n",
              "      <td>0.000000</td>\n",
              "      <td>0.0</td>\n",
              "      <td>...</td>\n",
              "      <td>0</td>\n",
              "      <td>0.0</td>\n",
              "      <td>29200</td>\n",
              "      <td>-1</td>\n",
              "      <td>32</td>\n",
              "      <td>0.0</td>\n",
              "      <td>0.0</td>\n",
              "      <td>0.0</td>\n",
              "      <td>0.0</td>\n",
              "      <td>BENIGN</td>\n",
              "    </tr>\n",
              "    <tr>\n",
              "      <th>204375</th>\n",
              "      <td>80</td>\n",
              "      <td>51997</td>\n",
              "      <td>6</td>\n",
              "      <td>1</td>\n",
              "      <td>2</td>\n",
              "      <td>0.0</td>\n",
              "      <td>0.0</td>\n",
              "      <td>0.0</td>\n",
              "      <td>0.000000</td>\n",
              "      <td>0.0</td>\n",
              "      <td>...</td>\n",
              "      <td>1</td>\n",
              "      <td>0.0</td>\n",
              "      <td>238</td>\n",
              "      <td>-1</td>\n",
              "      <td>20</td>\n",
              "      <td>0.0</td>\n",
              "      <td>0.0</td>\n",
              "      <td>0.0</td>\n",
              "      <td>0.0</td>\n",
              "      <td>BENIGN</td>\n",
              "    </tr>\n",
              "    <tr>\n",
              "      <th>204415</th>\n",
              "      <td>80</td>\n",
              "      <td>57621</td>\n",
              "      <td>6</td>\n",
              "      <td>1</td>\n",
              "      <td>2</td>\n",
              "      <td>0.0</td>\n",
              "      <td>0.0</td>\n",
              "      <td>0.0</td>\n",
              "      <td>0.000000</td>\n",
              "      <td>0.0</td>\n",
              "      <td>...</td>\n",
              "      <td>0</td>\n",
              "      <td>0.0</td>\n",
              "      <td>0</td>\n",
              "      <td>-1</td>\n",
              "      <td>20</td>\n",
              "      <td>0.0</td>\n",
              "      <td>0.0</td>\n",
              "      <td>0.0</td>\n",
              "      <td>0.0</td>\n",
              "      <td>BENIGN</td>\n",
              "    </tr>\n",
              "  </tbody>\n",
              "</table>\n",
              "<p>1147 rows × 37 columns</p>\n",
              "</div>"
            ]
          },
          "metadata": {
            "tags": []
          },
          "execution_count": 59
        }
      ]
    },
    {
      "cell_type": "code",
      "metadata": {
        "id": "idQhLUl81nMo"
      },
      "source": [
        ""
      ],
      "execution_count": null,
      "outputs": []
    }
  ]
}